{
 "cells": [
  {
   "cell_type": "code",
   "execution_count": 1,
   "metadata": {},
   "outputs": [
    {
     "name": "stdout",
     "output_type": "stream",
     "text": [
      "Folder: ., Number of files: 2\n",
      "\n",
      "Total number of files in the delivery folder: 2\n"
     ]
    }
   ],
   "source": [
    "# This program counts the number of files. \n",
    "\n",
    "import os\n",
    "\n",
    "def count_files_in_subfolders(main_folder):\n",
    "    \"\"\"\n",
    "    This function walks through each subfolder of the main folder and counts the number of files in each.\n",
    "    It also prints the total number of files in the delivery folder.\n",
    "    \"\"\"\n",
    "    total_files = 0  # Initialize a counter for the total number of files\n",
    "    \n",
    "    for root, dirs, files in os.walk(main_folder):\n",
    "        # Count files in the current directory\n",
    "        subfolder_name = os.path.relpath(root, main_folder)\n",
    "        file_count = len([f for f in files if os.path.isfile(os.path.join(root, f))])\n",
    "        total_files += file_count  # Add to the total count\n",
    "        \n",
    "        # Print the file count for each folder\n",
    "        print(f\"Folder: {subfolder_name}, Number of files: {file_count}\")\n",
    "    \n",
    "    # Print the total number of files\n",
    "    print(f\"\\nTotal number of files in the delivery folder: {total_files}\")\n",
    "\n",
    "# Example usage:\n",
    "if __name__ == \"__main__\":\n",
    "    main_folder_path = \"/users/azizkhan/speakers\"  # Replace with your main folder path\n",
    "    count_files_in_subfolders(main_folder_path)\n"
   ]
  },
  {
   "cell_type": "code",
   "execution_count": 2,
   "metadata": {},
   "outputs": [
    {
     "name": "stdout",
     "output_type": "stream",
     "text": [
      "\n",
      "Folders with fewer than 275 files:\n",
      "Folder: ., Number of files: 2\n",
      "\n",
      "Total number of folders with fewer than 275 files: 1\n",
      "Total number of folders with exactly 275 files: 0\n"
     ]
    }
   ],
   "source": [
    "# This code counts the number of iles\n",
    "\n",
    "import os\n",
    "\n",
    "def count_files_in_subfolders(main_folder):\n",
    "    \"\"\"\n",
    "    This function walks through each subfolder of the main folder and counts the number of files in each.\n",
    "    It also prints the total number of files in the delivery folder and lists folders with fewer than 275 files\n",
    "    and exactly 275 files.\n",
    "    \"\"\"\n",
    "    total_files = 0  # Initialize a counter for the total number of files\n",
    "    folders_with_few_files = []  # List to store subfolders with fewer than 275 files\n",
    "    folders_with_exact_files = []  # List to store subfolders with exactly 275 files\n",
    "    \n",
    "    for root, dirs, files in os.walk(main_folder):\n",
    "        # Count files in the current directory\n",
    "        subfolder_name = os.path.relpath(root, main_folder)\n",
    "        file_count = len([f for f in files if os.path.isfile(os.path.join(root, f))])\n",
    "        total_files += file_count  # Add to the total count\n",
    "        \n",
    "        # Print the file count for each folder\n",
    "        #print(f\"Folder: {subfolder_name}, Number of files: {file_count}\")\n",
    "        \n",
    "        # Check the file count and store in the respective lists\n",
    "        if file_count < 275:\n",
    "            folders_with_few_files.append((subfolder_name, file_count))\n",
    "        elif file_count >= 275:\n",
    "            folders_with_exact_files.append((subfolder_name, file_count))\n",
    "    \n",
    "    # Print the total number of files\n",
    "    #print(f\"\\nTotal number of files in the delivery folder: {total_files}\")\n",
    "    \n",
    "    # Print folders with fewer than 275 files\n",
    "    if folders_with_few_files:\n",
    "        print(\"\\nFolders with fewer than 275 files:\")\n",
    "        for folder, count in folders_with_few_files:\n",
    "            print(f\"Folder: {folder}, Number of files: {count}\")\n",
    "    else:\n",
    "        print(\"\\nAll folders have 275 or more files.\")\n",
    "    \n",
    "    # Print folders with exactly 275 files\n",
    "    if folders_with_exact_files:\n",
    "        print(\"\\nFolders with 275 or more files:\")\n",
    "        for folder, count in folders_with_exact_files:\n",
    "            print(f\"Folder: {folder}, Number of files: {count}\")\n",
    "    \n",
    "    # Print total count of folders with fewer than 275 files and exactly 275 files\n",
    "    print(f\"\\nTotal number of folders with fewer than 275 files: {len(folders_with_few_files)}\")\n",
    "    print(f\"Total number of folders with exactly 275 files: {len(folders_with_exact_files)}\")\n",
    "\n",
    "# Example usage:\n",
    "if __name__ == \"__main__\":\n",
    "    main_folder_path = \"/users/azizkhan/speakers\"  # Replace with your main folder path\n",
    "    count_files_in_subfolders(main_folder_path)\n"
   ]
  },
  {
   "cell_type": "code",
   "execution_count": null,
   "metadata": {},
   "outputs": [],
   "source": []
  }
 ],
 "metadata": {
  "kernelspec": {
   "display_name": "Python 3",
   "language": "python",
   "name": "python3"
  },
  "language_info": {
   "codemirror_mode": {
    "name": "ipython",
    "version": 3
   },
   "file_extension": ".py",
   "mimetype": "text/x-python",
   "name": "python",
   "nbconvert_exporter": "python",
   "pygments_lexer": "ipython3",
   "version": "3.10.1"
  }
 },
 "nbformat": 4,
 "nbformat_minor": 2
}
